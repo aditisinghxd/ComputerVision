{
 "cells": [
  {
   "cell_type": "markdown",
   "metadata": {},
   "source": [
    "## Box Filter\n",
    "\n",
    "A _box filter_ is replacing every pixel in an image with the mean of the neighborhood values around it.\n",
    "\n",
    "On a coding level, it can be implemented with regular nested for loops or with vectorization. This small tutorial demonstrates the benefits of using vectorization.\n",
    "\n",
    "First, let's write some code to load and display a test image:"
   ]
  },
  {
   "cell_type": "code",
   "execution_count": null,
   "metadata": {},
   "outputs": [],
   "source": [
    "%matplotlib inline\n",
    "import matplotlib.pyplot as plt\n",
    "import numpy as np\n",
    "import cv2\n",
    "import urllib.request \n",
    "import timeit"
   ]
  },
  {
   "cell_type": "code",
   "execution_count": null,
   "metadata": {},
   "outputs": [],
   "source": [
    "# Load the cameraman image\n",
    "url = 'https://dome.mit.edu/bitstream/handle/1721.3/195767/cameraman.tif.jpg?sequence=4&isAllowed=y' \n",
    "\n",
    "with urllib.request.urlopen(url) as resp: \n",
    "    img = np.asarray(bytearray(resp.read()), dtype=\"uint8\") \n",
    "    img = cv2.imdecode(img, cv2.IMREAD_GRAYSCALE) \n",
    "\n",
    "\n",
    "def show(img):\n",
    "    if type(img)==list:\n",
    "        img = np.concatenate(img, axis=1)\n",
    "    if len(img.shape) == 2:\n",
    "        plt.imshow(img, cmap=\"gray\")\n",
    "    else:\n",
    "        plt.imshow(cv2.cvtColor((img * 255).astype(np.uint8), cv2.COLOR_BGR2RGB))\n",
    "\n",
    "\n",
    "show(img)"
   ]
  },
  {
   "cell_type": "markdown",
   "metadata": {},
   "source": [
    "### Naive loop code\n",
    "\n",
    "For a filter size of $f \\times f$ pixels and an image size of $n \\times n$ pixels, the complexity of the naive loop version is $\\mathcal{O}(f^2 \\cdot n^2)$.\n",
    "\n",
    "Here is how the naive for-loop code could look like:"
   ]
  },
  {
   "cell_type": "code",
   "execution_count": null,
   "metadata": {},
   "outputs": [],
   "source": [
    "def box_filter_loop(img, box_width, box_height):\n",
    "    box_size = box_width * box_height\n",
    "    result = np.zeros([img.shape[0] - (box_height - 1), img.shape[1] - (box_width - 1)])\n",
    "\n",
    "    # Iterate over the image\n",
    "    for result_y in range(result.shape[0]):\n",
    "        for result_x in range(result.shape[1]):\n",
    "            local_sum = 0\n",
    "\n",
    "            # Sum up the image pixels covered by the box filter\n",
    "            for filter_y in range(result_y, result_y + box_height):\n",
    "                for filter_x in range(result_x, result_x + box_width):\n",
    "                    local_sum += img[filter_y, filter_x]\n",
    "\n",
    "            result[result_y, result_x] = local_sum / box_size\n",
    "    return result\n",
    "            "
   ]
  },
  {
   "cell_type": "code",
   "execution_count": null,
   "metadata": {},
   "outputs": [],
   "source": [
    "# Check the result of the box filter\n",
    "result_loop = box_filter_loop(img, 5,5)\n",
    "show(result_loop)"
   ]
  },
  {
   "cell_type": "markdown",
   "metadata": {},
   "source": [
    "### Developing the vectorized solution\n",
    "\n",
    "A vectorized solution replaces multiple individual mathematical computations (e.g., adding up several numbers pairwise) by a computation on vectors (e.g., adding up all elements in a vector).\n",
    "Not only are the libraries offering these vector computations (e.g., numpy) often highly optimized towards performance, but modern CPUs and GPUs support SIMD (Single Instruction, Multiple Data) instructions that allow the same operation on multiple data elements at the same time.\n",
    "Hence, a vectorized solution is usually a lot faster.\n",
    "\n",
    "The vectorization solution can be derived from the naive solution by first reordering some lines of code.\n",
    "\n",
    "#### Step 1\n",
    "\n",
    "Make the image iteration the new inner loops:\n",
    "```python\n",
    "# Iterate over the box filter\n",
    "for filter_y in range(box_height):\n",
    "    for filter_x in range(box_width):\n",
    "\n",
    "        # Iterate over the image\n",
    "        for result_y in range(result.shape[0]):\n",
    "            for result_x in range(result.shape[1]):\n",
    "\n",
    "                # Sum up the values covered by the filter in the result image\n",
    "                result[result_y, result_x] += img[result_y + filter_y, result_x + filter_x] \n",
    "\n",
    "final_result = result / box_size\n",
    "```"
   ]
  },
  {
   "cell_type": "markdown",
   "metadata": {},
   "source": [
    "#### Step 2\n",
    "\n",
    "Replace the image iteration with Python's list slicing:\n",
    "```python\n",
    "# Iterate over the box filter\n",
    "for filter_y in range(box_height):\n",
    "    for filter_x in range(box_width):\n",
    "\n",
    "        # Sum up the values covered by the filter in the result image\n",
    "        result += img[filter_y:filter_y+result.shape[0], \n",
    "                        filter_x:filter_x+result.shape[1]]\n",
    "\n",
    "final_result = result / box_size\n",
    "```"
   ]
  },
  {
   "cell_type": "markdown",
   "metadata": {},
   "source": [
    "### Vectorized Solution\n",
    "\n",
    "Then, put everything together as a function:"
   ]
  },
  {
   "cell_type": "code",
   "execution_count": null,
   "metadata": {},
   "outputs": [],
   "source": [
    "def box_filter_vectorized(img, box_width, box_height):\n",
    "    box_size = box_width * box_height\n",
    "    result = np.zeros([img.shape[0] - (box_height - 1), img.shape[1] - (box_width - 1)])\n",
    "\n",
    "    # Iterate over the box filter\n",
    "    for filter_y in range(box_height):\n",
    "        for filter_x in range(box_width):\n",
    "\n",
    "            # Sum up the values covered by the filter in the result image\n",
    "            result += img[filter_y:filter_y+result.shape[0], \n",
    "                            filter_x:filter_x+result.shape[1]]\n",
    "\n",
    "    final_result = result / box_size\n",
    "    return final_result"
   ]
  },
  {
   "cell_type": "code",
   "execution_count": null,
   "metadata": {},
   "outputs": [],
   "source": [
    "# Compare the two implementations (original, naive, vectorized, difference)\n",
    "naive = box_filter_loop(img, 5,5)\n",
    "vectorized = box_filter_vectorized(img, 5, 5)\n",
    "show([img[2:-2,2:-2], naive, vectorized, (naive - vectorized)**2])"
   ]
  },
  {
   "cell_type": "markdown",
   "metadata": {},
   "source": [
    "### Evaluation\n",
    "\n",
    "As you can see from the above results, both algorithms produce the same image.\n",
    "Now, let's compare their runtime.\n",
    "\n",
    "While the runtime of the naive loop version increases exponentially by the _filter size_, the vectorized solution produces results nearly instantly."
   ]
  },
  {
   "cell_type": "code",
   "execution_count": null,
   "metadata": {},
   "outputs": [],
   "source": [
    "timeit_ctx =  'from __main__ import ' + ', '.join(globals())\n",
    "loop_filter_speeds = {}\n",
    "vectorized_speeds = {}\n",
    "filter_sizes = [3, 5, 7, 9, 11, 13, 15]\n",
    "\n",
    "for filter_size in filter_sizes:\n",
    "    loop_filter_speeds[filter_size] = timeit.Timer(lambda: box_filter_loop(img, filter_size, filter_size)).timeit(number=1)\n",
    "    vectorized_speeds[filter_size] = timeit.Timer(lambda: box_filter_vectorized(img, filter_size, filter_size)).timeit(number=1)"
   ]
  },
  {
   "cell_type": "code",
   "execution_count": null,
   "metadata": {},
   "outputs": [],
   "source": [
    "plt.figure(figsize=(7, 3))\n",
    "plt.plot(filter_sizes, [[loop_filter_speeds[sz], vectorized_speeds[sz]] for sz in filter_sizes])\n",
    "plt.ylabel(\"Execution Sec.\")\n",
    "plt.xlabel(\"Filter width (pixels)\")\n",
    "plt.legend([\"Naive Loop\", \"Vectorized\"])\n",
    "plt.title(\"Box-filter Speedup by filter size\")"
   ]
  },
  {
   "cell_type": "markdown",
   "metadata": {},
   "source": [
    "Additionally, the vectorized performance improves almost exponentially by _image size_ as well!"
   ]
  },
  {
   "cell_type": "code",
   "execution_count": null,
   "metadata": {},
   "outputs": [],
   "source": [
    "loop_speeds = {}\n",
    "vectorized_speeds = {}\n",
    "image_sizes = [64, 128, 256, 512, 1024]\n",
    "filter_size = 3\n",
    "\n",
    "for img_size in image_sizes:\n",
    "    rnd_img = np.random.rand(img_size, img_size)\n",
    "    loop_speeds[img_size] = timeit.Timer(lambda: box_filter_loop(rnd_img, filter_size, filter_size)).timeit(number=1)\n",
    "    vectorized_speeds[img_size] = timeit.Timer(lambda: box_filter_vectorized(rnd_img, filter_size, filter_size)).timeit(number=1)"
   ]
  },
  {
   "cell_type": "code",
   "execution_count": null,
   "metadata": {},
   "outputs": [],
   "source": [
    "plt.figure(figsize=(7, 3))\n",
    "plt.plot(image_sizes,[[loop_speeds[sz], vectorized_speeds[sz]] for sz in image_sizes])\n",
    "plt.ylabel(\"Execution Sec.\")\n",
    "plt.xlabel(\"Image width (pixels)\")\n",
    "plt.legend([\"Naive Loop\", \"Vectorized\"])\n",
    "plt.title(\"Box-filter Speedup by image size\")"
   ]
  },
  {
   "cell_type": "markdown",
   "metadata": {},
   "source": [
    "### Conclusion\n",
    "\n",
    "The vectorization solution is a lot faster. However, did we reduce the problem's complexity with vectorization? Not really!"
   ]
  },
  {
   "cell_type": "markdown",
   "metadata": {},
   "source": [
    "### Can we do even better?\n",
    "\n",
    "Yes, we can use integral images! An integral image is an image, where every pixel contains the sum of all original pixels above and to the left, inclusive.\n",
    "\n",
    "Using numpy's `cumsum` function, we can easily create such an integral image:"
   ]
  },
  {
   "cell_type": "code",
   "execution_count": null,
   "metadata": {},
   "outputs": [],
   "source": [
    "image = np.array([[1,2,3], [4,5,6], [7, 8, 9]])\n",
    "integral_image = image.cumsum(axis=0).cumsum(axis=1)\n",
    "\n",
    "print('Original Image')\n",
    "print(image)\n",
    "print('Integral Image')\n",
    "print(integral_image)"
   ]
  },
  {
   "cell_type": "markdown",
   "metadata": {},
   "source": [
    "We can get the sum of the pixels in any rectangular region by reading only the corners of the rectangular region in the integral image.\n",
    "For example, if we need the pixel sum of the rectangle with top left corner $(y_1, x_1)$ (excluded) and bottom right corner $(y_2, x_2)$ (included):"
   ]
  },
  {
   "cell_type": "code",
   "execution_count": null,
   "metadata": {},
   "outputs": [],
   "source": [
    "# Rectangle coordinates for values 5, 6, 8, 9 (top left coordinate excluded, bottom right included)\n",
    "y1 = 0\n",
    "x1 = 0\n",
    "y2 = 2\n",
    "x2 = 2\n",
    "\n",
    "sum_1 = image[y1+1:y2+1, x1+1:x2+1].sum()\n",
    "sum_2 = integral_image[y1, x1] + integral_image[y2, x2] - integral_image[y2, x1] - integral_image[y1, x2]\n",
    "\n",
    "print('Sum of rectangle, manually computed:', sum_1)\n",
    "print('Sum of rectangle, computed with integral image:', sum_2)"
   ]
  },
  {
   "cell_type": "markdown",
   "metadata": {},
   "source": [
    "Using an integral image, the complexity of a box filter implementation is reduced from $\\mathcal{O}(f^2 \\cdot n^2)$ to only $\\mathcal{O}(n^2)$."
   ]
  },
  {
   "cell_type": "code",
   "execution_count": null,
   "metadata": {},
   "outputs": [],
   "source": [
    "def box_filter_integral(img, box_width, box_height):\n",
    "    box_size = box_width * box_height\n",
    "\n",
    "    integral_image = img.cumsum(axis=0).cumsum(axis=1)\n",
    "\n",
    "    # Pad the integral image with zeros to guarantee that the box filter works at the borders\n",
    "    integral_image = np.pad(integral_image, ((1, 0), (1, 0)), mode='constant', constant_values=0)\n",
    "\n",
    "    width, height = integral_image.shape\n",
    "    top_left = integral_image[0:height-box_height, 0:width-box_width]\n",
    "    bottom_right = integral_image[box_height:height, box_width:width]\n",
    "    top_right = integral_image[0:height-box_height, box_width:width]\n",
    "    bottom_left = integral_image[box_height:height, 0:width-box_width]\n",
    "    result = (top_left + bottom_right - top_right - bottom_left) / box_size\n",
    "    return result "
   ]
  },
  {
   "cell_type": "code",
   "execution_count": null,
   "metadata": {},
   "outputs": [],
   "source": [
    "# Compare the two implementations (original, vectorized, integral, difference)\n",
    "vectorized = box_filter_vectorized(img, 5, 5)\n",
    "integral = box_filter_integral(img, 5, 5)\n",
    "show([img[2:-2,2:-2], vectorized, integral, (vectorized - integral)**2])"
   ]
  },
  {
   "cell_type": "markdown",
   "metadata": {},
   "source": [
    "Let's compare the runtime of the vectorized solution and the integral image solution.\n",
    "While the runtime of the vectorized version increases exponentially by the _filter size_, the integral image solution produces results nearly instantly."
   ]
  },
  {
   "cell_type": "code",
   "execution_count": null,
   "metadata": {},
   "outputs": [],
   "source": [
    "integral_speeds = {}\n",
    "vectorized_speeds = {}\n",
    "filter_sizes = [3, 5, 7, 9, 11, 13, 15, 31, 61]\n",
    "rnd_img = np.random.rand(1024, 1024)\n",
    "\n",
    "for filter_size in filter_sizes:\n",
    "    integral_speeds[filter_size]=timeit.Timer(lambda: box_filter_integral(rnd_img, filter_size,filter_size)).timeit(number=1)\n",
    "    vectorized_speeds[filter_size]=timeit.Timer(lambda: box_filter_vectorized(rnd_img, filter_size,filter_size)).timeit(number=1)"
   ]
  },
  {
   "cell_type": "code",
   "execution_count": null,
   "metadata": {},
   "outputs": [],
   "source": [
    "plt.figure(figsize=(7, 3))\n",
    "plt.plot(filter_sizes, [[integral_speeds[sz], vectorized_speeds[sz]] for sz in filter_sizes])\n",
    "plt.ylabel(\"Execution Sec.\")\n",
    "plt.xlabel(\"Filter width (pixels)\")\n",
    "plt.legend([\"Integral Image\", \"Vectorized\"])\n",
    "plt.title(\"Box-filter Speedup by filter size\")"
   ]
  },
  {
   "cell_type": "markdown",
   "metadata": {},
   "source": [
    "### Overall conclusion\n",
    "\n",
    "Improving code by leveraging vectorization is great! However, reducing the problem's complexity is even better!\n",
    "\n",
    "For the full picture, compare the runtime of all three versions below."
   ]
  },
  {
   "cell_type": "code",
   "execution_count": null,
   "metadata": {},
   "outputs": [],
   "source": [
    "filter_sizes = [3, 5, 7, 9, 11, 13, 15]\n",
    "plt.figure(figsize=(7, 6))\n",
    "plt.plot(filter_sizes, [[loop_filter_speeds[sz], vectorized_speeds[sz], integral_speeds[sz]] for sz in filter_sizes])\n",
    "plt.ylabel(\"Execution Sec.\")\n",
    "plt.xlabel(\"Filter width (pixels)\")\n",
    "plt.legend([\"Naive Loop\", \"Vectorized\", \"Integral Image\"])\n",
    "plt.title(\"Box-filter Speedup by filter size\")"
   ]
  }
 ],
 "metadata": {
  "kernelspec": {
   "display_name": "Python 3",
   "language": "python",
   "name": "python3"
  },
  "language_info": {
   "codemirror_mode": {
    "name": "ipython",
    "version": 3
   },
   "file_extension": ".py",
   "mimetype": "text/x-python",
   "name": "python",
   "nbconvert_exporter": "python",
   "pygments_lexer": "ipython3",
   "version": "3.8.8"
  }
 },
 "nbformat": 4,
 "nbformat_minor": 2
}
